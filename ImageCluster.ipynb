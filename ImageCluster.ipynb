{
  "nbformat": 4,
  "nbformat_minor": 0,
  "metadata": {
    "colab": {
      "name": "ImageCluster.ipynb",
      "provenance": [],
      "private_outputs": true,
      "collapsed_sections": [],
      "machine_shape": "hm",
      "authorship_tag": "ABX9TyO4nd6mXzFTFWSLmWqmYxas",
      "include_colab_link": true
    },
    "kernelspec": {
      "name": "python3",
      "display_name": "Python 3"
    },
    "accelerator": "GPU"
  },
  "cells": [
    {
      "cell_type": "markdown",
      "metadata": {
        "id": "view-in-github",
        "colab_type": "text"
      },
      "source": [
        "<a href=\"https://colab.research.google.com/github/dvschultz/make-ml-datasets/blob/master/ImageCluster.ipynb\" target=\"_parent\"><img src=\"https://colab.research.google.com/assets/colab-badge.svg\" alt=\"Open In Colab\"/></a>"
      ]
    },
    {
      "cell_type": "code",
      "metadata": {
        "id": "bXvuHhlhuC5f"
      },
      "source": [
        "!git clone https://github.com/elcorto/imagecluster\n",
        "%cd imagecluster\n",
        "!pip install -e ."
      ],
      "execution_count": null,
      "outputs": []
    },
    {
      "cell_type": "code",
      "metadata": {
        "id": "EDKuYD0wZ3m9"
      },
      "source": [
        "#download your dataset and unzip it"
      ],
      "execution_count": null,
      "outputs": []
    },
    {
      "cell_type": "code",
      "metadata": {
        "id": "5NKj8kGuyCpe"
      },
      "source": [
        "#!/usr/bin/python3\n",
        "\n",
        "# Minimal example. Use the convenience function io.get_image_data() without any\n",
        "# extra arguments.\n",
        "\n",
        "from imagecluster import calc, io as icio, postproc\n",
        "\n",
        "# The bottleneck is calc.fingerprints() called in this function, all other\n",
        "# operations are very fast. get_image_data() writes fingerprints to disk and\n",
        "# loads them again instead of re-calculating them.\n",
        "\n",
        "# UPDATE THIS LINE\n",
        "images = icio.read_images('/content/imagecluster/floral-256256/', size=(224,224))\n",
        "\n",
        "# Create Keras NN model.\n",
        "model = calc.get_model()\n",
        "\n",
        "# Feed images through the model and extract fingerprints (feature vectors).\n",
        "fingerprints = calc.fingerprints(images, model)\n",
        "\n",
        "# Optionally run a PCA on the fingerprints to compress the dimensions. Use a\n",
        "# cumulative explained variance ratio of 0.95.\n",
        "fingerprints = calc.pca(fingerprints, n_components=0.95)\n",
        "\n",
        "# Run clustering on the fingerprints. Select clusters with similarity index\n",
        "# sim=0.5.\n",
        "clusters = calc.cluster(fingerprints, sim=0.4)\n",
        "\n",
        "# Create dirs with links to images. Dirs represent the clusters the images\n",
        "# belong to.\n",
        "postproc.make_links(clusters, 'pics/imagecluster/clusters')\n",
        "\n",
        "# Plot images arranged in clusters.\n",
        "# postproc.visualize(clusters, images)\n"
      ],
      "execution_count": null,
      "outputs": []
    }
  ]
}